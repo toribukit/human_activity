{
  "nbformat": 4,
  "nbformat_minor": 0,
  "metadata": {
    "colab": {
      "name": "CentralizedML.ipynb",
      "provenance": [],
      "collapsed_sections": [
        "H9C8vnB8_olZ",
        "gVhm2KdsMc7L",
        "rUUXrJFATPCC",
        "RGEEFl7AarXS",
        "dPVU2KcAc3eF"
      ]
    },
    "kernelspec": {
      "name": "python3",
      "display_name": "Python 3"
    },
    "language_info": {
      "name": "python"
    }
  },
  "cells": [
    {
      "cell_type": "markdown",
      "metadata": {
        "id": "H9C8vnB8_olZ"
      },
      "source": [
        "##Load Data"
      ]
    },
    {
      "cell_type": "code",
      "metadata": {
        "colab": {
          "base_uri": "https://localhost:8080/"
        },
        "id": "xlFRrbjF_nLL",
        "outputId": "affb9f61-ba0f-42ab-856e-1411823cbba5"
      },
      "source": [
        "from google.colab import drive\n",
        "drive.mount('/content/drive')"
      ],
      "execution_count": null,
      "outputs": [
        {
          "output_type": "stream",
          "name": "stdout",
          "text": [
            "Mounted at /content/drive\n"
          ]
        }
      ]
    },
    {
      "cell_type": "code",
      "metadata": {
        "colab": {
          "base_uri": "https://localhost:8080/",
          "height": 204
        },
        "id": "SQ_fih1m_-A9",
        "outputId": "2ec84bfd-09ea-440c-a084-fc215d0df74c"
      },
      "source": [
        "import pandas as pd\n",
        "df = pd.read_csv('/content/drive/MyDrive/Colab Notebooks/HUFS/train.csv', sep = \",\")\n",
        "df.head()"
      ],
      "execution_count": null,
      "outputs": [
        {
          "output_type": "execute_result",
          "data": {
            "text/html": [
              "<div>\n",
              "<style scoped>\n",
              "    .dataframe tbody tr th:only-of-type {\n",
              "        vertical-align: middle;\n",
              "    }\n",
              "\n",
              "    .dataframe tbody tr th {\n",
              "        vertical-align: top;\n",
              "    }\n",
              "\n",
              "    .dataframe thead th {\n",
              "        text-align: right;\n",
              "    }\n",
              "</style>\n",
              "<table border=\"1\" class=\"dataframe\">\n",
              "  <thead>\n",
              "    <tr style=\"text-align: right;\">\n",
              "      <th></th>\n",
              "      <th>subject</th>\n",
              "      <th>acc1_x</th>\n",
              "      <th>acc1_y</th>\n",
              "      <th>acc1_z</th>\n",
              "      <th>gyro1_x</th>\n",
              "      <th>gyro1_y</th>\n",
              "      <th>gyro1_z</th>\n",
              "      <th>acc2_x</th>\n",
              "      <th>acc2_y</th>\n",
              "      <th>acc2_z</th>\n",
              "      <th>label</th>\n",
              "    </tr>\n",
              "  </thead>\n",
              "  <tbody>\n",
              "    <tr>\n",
              "      <th>0</th>\n",
              "      <td>3</td>\n",
              "      <td>-0.049573</td>\n",
              "      <td>0.051482</td>\n",
              "      <td>0.061498</td>\n",
              "      <td>0.357428</td>\n",
              "      <td>0.876525</td>\n",
              "      <td>-1.077288</td>\n",
              "      <td>0.951736</td>\n",
              "      <td>-0.303094</td>\n",
              "      <td>-0.133766</td>\n",
              "      <td>5</td>\n",
              "    </tr>\n",
              "    <tr>\n",
              "      <th>1</th>\n",
              "      <td>3</td>\n",
              "      <td>-0.085298</td>\n",
              "      <td>0.048648</td>\n",
              "      <td>0.083263</td>\n",
              "      <td>0.337020</td>\n",
              "      <td>0.840771</td>\n",
              "      <td>-1.329607</td>\n",
              "      <td>0.918129</td>\n",
              "      <td>-0.301953</td>\n",
              "      <td>-0.111281</td>\n",
              "      <td>5</td>\n",
              "    </tr>\n",
              "    <tr>\n",
              "      <th>2</th>\n",
              "      <td>3</td>\n",
              "      <td>-0.046568</td>\n",
              "      <td>0.057793</td>\n",
              "      <td>0.114970</td>\n",
              "      <td>0.320000</td>\n",
              "      <td>0.909147</td>\n",
              "      <td>-0.788201</td>\n",
              "      <td>0.958863</td>\n",
              "      <td>-0.288855</td>\n",
              "      <td>-0.078756</td>\n",
              "      <td>5</td>\n",
              "    </tr>\n",
              "    <tr>\n",
              "      <th>3</th>\n",
              "      <td>3</td>\n",
              "      <td>0.001564</td>\n",
              "      <td>0.068723</td>\n",
              "      <td>0.144465</td>\n",
              "      <td>0.308596</td>\n",
              "      <td>0.773221</td>\n",
              "      <td>-0.313850</td>\n",
              "      <td>1.008886</td>\n",
              "      <td>-0.274002</td>\n",
              "      <td>-0.048346</td>\n",
              "      <td>5</td>\n",
              "    </tr>\n",
              "    <tr>\n",
              "      <th>4</th>\n",
              "      <td>3</td>\n",
              "      <td>-0.026644</td>\n",
              "      <td>0.088834</td>\n",
              "      <td>0.188589</td>\n",
              "      <td>0.308176</td>\n",
              "      <td>0.691534</td>\n",
              "      <td>-0.457948</td>\n",
              "      <td>0.982454</td>\n",
              "      <td>-0.250003</td>\n",
              "      <td>-0.003217</td>\n",
              "      <td>5</td>\n",
              "    </tr>\n",
              "  </tbody>\n",
              "</table>\n",
              "</div>"
            ],
            "text/plain": [
              "   subject    acc1_x    acc1_y    acc1_z  ...    acc2_x    acc2_y    acc2_z  label\n",
              "0        3 -0.049573  0.051482  0.061498  ...  0.951736 -0.303094 -0.133766      5\n",
              "1        3 -0.085298  0.048648  0.083263  ...  0.918129 -0.301953 -0.111281      5\n",
              "2        3 -0.046568  0.057793  0.114970  ...  0.958863 -0.288855 -0.078756      5\n",
              "3        3  0.001564  0.068723  0.144465  ...  1.008886 -0.274002 -0.048346      5\n",
              "4        3 -0.026644  0.088834  0.188589  ...  0.982454 -0.250003 -0.003217      5\n",
              "\n",
              "[5 rows x 11 columns]"
            ]
          },
          "metadata": {},
          "execution_count": 2
        }
      ]
    },
    {
      "cell_type": "code",
      "metadata": {
        "colab": {
          "base_uri": "https://localhost:8080/",
          "height": 204
        },
        "id": "ezK-RVHOAK9_",
        "outputId": "9751ff41-b484-4e82-9a70-2c1b02a94a1f"
      },
      "source": [
        "df2 = pd.read_csv('/content/drive/MyDrive/Colab Notebooks/HUFS/test.csv', sep = \",\")\n",
        "df2.head()"
      ],
      "execution_count": null,
      "outputs": [
        {
          "output_type": "execute_result",
          "data": {
            "text/html": [
              "<div>\n",
              "<style scoped>\n",
              "    .dataframe tbody tr th:only-of-type {\n",
              "        vertical-align: middle;\n",
              "    }\n",
              "\n",
              "    .dataframe tbody tr th {\n",
              "        vertical-align: top;\n",
              "    }\n",
              "\n",
              "    .dataframe thead th {\n",
              "        text-align: right;\n",
              "    }\n",
              "</style>\n",
              "<table border=\"1\" class=\"dataframe\">\n",
              "  <thead>\n",
              "    <tr style=\"text-align: right;\">\n",
              "      <th></th>\n",
              "      <th>subject</th>\n",
              "      <th>acc1_x</th>\n",
              "      <th>acc1_y</th>\n",
              "      <th>acc1_z</th>\n",
              "      <th>gyro1_x</th>\n",
              "      <th>gyro1_y</th>\n",
              "      <th>gyro1_z</th>\n",
              "      <th>acc2_x</th>\n",
              "      <th>acc2_y</th>\n",
              "      <th>acc2_z</th>\n",
              "      <th>label</th>\n",
              "    </tr>\n",
              "  </thead>\n",
              "  <tbody>\n",
              "    <tr>\n",
              "      <th>0</th>\n",
              "      <td>2</td>\n",
              "      <td>0.011653</td>\n",
              "      <td>-0.029399</td>\n",
              "      <td>0.106826</td>\n",
              "      <td>0.437464</td>\n",
              "      <td>0.531349</td>\n",
              "      <td>0.136528</td>\n",
              "      <td>1.041216</td>\n",
              "      <td>-0.269796</td>\n",
              "      <td>0.023780</td>\n",
              "      <td>5</td>\n",
              "    </tr>\n",
              "    <tr>\n",
              "      <th>1</th>\n",
              "      <td>2</td>\n",
              "      <td>0.013109</td>\n",
              "      <td>-0.039729</td>\n",
              "      <td>0.152455</td>\n",
              "      <td>0.468264</td>\n",
              "      <td>0.721069</td>\n",
              "      <td>0.097622</td>\n",
              "      <td>1.041803</td>\n",
              "      <td>-0.280025</td>\n",
              "      <td>0.076293</td>\n",
              "      <td>5</td>\n",
              "    </tr>\n",
              "    <tr>\n",
              "      <th>2</th>\n",
              "      <td>2</td>\n",
              "      <td>0.011269</td>\n",
              "      <td>-0.052406</td>\n",
              "      <td>0.216846</td>\n",
              "      <td>0.498257</td>\n",
              "      <td>0.520328</td>\n",
              "      <td>0.083556</td>\n",
              "      <td>1.039086</td>\n",
              "      <td>-0.292663</td>\n",
              "      <td>0.147475</td>\n",
              "      <td>5</td>\n",
              "    </tr>\n",
              "    <tr>\n",
              "      <th>3</th>\n",
              "      <td>2</td>\n",
              "      <td>0.027831</td>\n",
              "      <td>-0.052106</td>\n",
              "      <td>0.202581</td>\n",
              "      <td>0.479396</td>\n",
              "      <td>0.372625</td>\n",
              "      <td>0.022861</td>\n",
              "      <td>1.054768</td>\n",
              "      <td>-0.292384</td>\n",
              "      <td>0.139906</td>\n",
              "      <td>5</td>\n",
              "    </tr>\n",
              "    <tr>\n",
              "      <th>4</th>\n",
              "      <td>2</td>\n",
              "      <td>0.002318</td>\n",
              "      <td>-0.045470</td>\n",
              "      <td>0.176010</td>\n",
              "      <td>0.389894</td>\n",
              "      <td>0.414541</td>\n",
              "      <td>-0.025939</td>\n",
              "      <td>1.028376</td>\n",
              "      <td>-0.285826</td>\n",
              "      <td>0.119934</td>\n",
              "      <td>5</td>\n",
              "    </tr>\n",
              "  </tbody>\n",
              "</table>\n",
              "</div>"
            ],
            "text/plain": [
              "   subject    acc1_x    acc1_y    acc1_z  ...    acc2_x    acc2_y    acc2_z  label\n",
              "0        2  0.011653 -0.029399  0.106826  ...  1.041216 -0.269796  0.023780      5\n",
              "1        2  0.013109 -0.039729  0.152455  ...  1.041803 -0.280025  0.076293      5\n",
              "2        2  0.011269 -0.052406  0.216846  ...  1.039086 -0.292663  0.147475      5\n",
              "3        2  0.027831 -0.052106  0.202581  ...  1.054768 -0.292384  0.139906      5\n",
              "4        2  0.002318 -0.045470  0.176010  ...  1.028376 -0.285826  0.119934      5\n",
              "\n",
              "[5 rows x 11 columns]"
            ]
          },
          "metadata": {},
          "execution_count": 3
        }
      ]
    },
    {
      "cell_type": "code",
      "metadata": {
        "id": "WvQ5uQCjAgg1"
      },
      "source": [
        "import numpy as np\n",
        "import matplotlib.pyplot as plt\n",
        "from sklearn.model_selection import train_test_split\n",
        "from sklearn.preprocessing import StandardScaler"
      ],
      "execution_count": null,
      "outputs": []
    },
    {
      "cell_type": "markdown",
      "metadata": {
        "id": "TazrErswAqlQ"
      },
      "source": [
        "##Data Exploratory"
      ]
    },
    {
      "cell_type": "code",
      "metadata": {
        "colab": {
          "base_uri": "https://localhost:8080/"
        },
        "id": "iDCvjrh-AlM1",
        "outputId": "6cd030cf-2e10-4353-acff-d7631ae50c5f"
      },
      "source": [
        "df.info()"
      ],
      "execution_count": null,
      "outputs": [
        {
          "output_type": "stream",
          "name": "stdout",
          "text": [
            "<class 'pandas.core.frame.DataFrame'>\n",
            "RangeIndex: 528256 entries, 0 to 528255\n",
            "Data columns (total 11 columns):\n",
            " #   Column   Non-Null Count   Dtype  \n",
            "---  ------   --------------   -----  \n",
            " 0   subject  528256 non-null  int64  \n",
            " 1   acc1_x   528256 non-null  float64\n",
            " 2   acc1_y   528256 non-null  float64\n",
            " 3   acc1_z   528256 non-null  float64\n",
            " 4   gyro1_x  528256 non-null  float64\n",
            " 5   gyro1_y  528256 non-null  float64\n",
            " 6   gyro1_z  528256 non-null  float64\n",
            " 7   acc2_x   528256 non-null  float64\n",
            " 8   acc2_y   528256 non-null  float64\n",
            " 9   acc2_z   528256 non-null  float64\n",
            " 10  label    528256 non-null  int64  \n",
            "dtypes: float64(9), int64(2)\n",
            "memory usage: 44.3 MB\n"
          ]
        }
      ]
    },
    {
      "cell_type": "code",
      "metadata": {
        "colab": {
          "base_uri": "https://localhost:8080/"
        },
        "id": "_ol-ZvvRAyDM",
        "outputId": "0a8ecd58-1c84-427d-af09-97504d06f399"
      },
      "source": [
        "df.isnull().sum()"
      ],
      "execution_count": null,
      "outputs": [
        {
          "output_type": "execute_result",
          "data": {
            "text/plain": [
              "subject    0\n",
              "acc1_x     0\n",
              "acc1_y     0\n",
              "acc1_z     0\n",
              "gyro1_x    0\n",
              "gyro1_y    0\n",
              "gyro1_z    0\n",
              "acc2_x     0\n",
              "acc2_y     0\n",
              "acc2_z     0\n",
              "label      0\n",
              "dtype: int64"
            ]
          },
          "metadata": {},
          "execution_count": 6
        }
      ]
    },
    {
      "cell_type": "code",
      "metadata": {
        "colab": {
          "base_uri": "https://localhost:8080/"
        },
        "id": "Kbo2N2HXA1LQ",
        "outputId": "4bbbb1db-8cc8-4af7-851c-e1583386bf77"
      },
      "source": [
        "df['label'].value_counts()"
      ],
      "execution_count": null,
      "outputs": [
        {
          "output_type": "execute_result",
          "data": {
            "text/plain": [
              "6    107776\n",
              "4     96768\n",
              "5     89984\n",
              "1     88448\n",
              "2     78848\n",
              "3     66432\n",
              "Name: label, dtype: int64"
            ]
          },
          "metadata": {},
          "execution_count": 7
        }
      ]
    },
    {
      "cell_type": "code",
      "metadata": {
        "colab": {
          "base_uri": "https://localhost:8080/"
        },
        "id": "As0DvhhQOpcP",
        "outputId": "aef19398-7073-40f5-c5ad-117761c80aaf"
      },
      "source": [
        "df2.info()"
      ],
      "execution_count": null,
      "outputs": [
        {
          "output_type": "stream",
          "name": "stdout",
          "text": [
            "<class 'pandas.core.frame.DataFrame'>\n",
            "RangeIndex: 263424 entries, 0 to 263423\n",
            "Data columns (total 11 columns):\n",
            " #   Column   Non-Null Count   Dtype  \n",
            "---  ------   --------------   -----  \n",
            " 0   subject  263424 non-null  int64  \n",
            " 1   acc1_x   263424 non-null  float64\n",
            " 2   acc1_y   263424 non-null  float64\n",
            " 3   acc1_z   263424 non-null  float64\n",
            " 4   gyro1_x  263424 non-null  float64\n",
            " 5   gyro1_y  263424 non-null  float64\n",
            " 6   gyro1_z  263424 non-null  float64\n",
            " 7   acc2_x   263424 non-null  float64\n",
            " 8   acc2_y   263424 non-null  float64\n",
            " 9   acc2_z   263424 non-null  float64\n",
            " 10  label    263424 non-null  int64  \n",
            "dtypes: float64(9), int64(2)\n",
            "memory usage: 22.1 MB\n"
          ]
        }
      ]
    },
    {
      "cell_type": "code",
      "metadata": {
        "colab": {
          "base_uri": "https://localhost:8080/"
        },
        "id": "ESaaW-l4Ot6e",
        "outputId": "430d9f92-e052-4bc4-c30d-12364530069c"
      },
      "source": [
        "df2.isnull().sum()"
      ],
      "execution_count": null,
      "outputs": [
        {
          "output_type": "execute_result",
          "data": {
            "text/plain": [
              "subject    0\n",
              "acc1_x     0\n",
              "acc1_y     0\n",
              "acc1_z     0\n",
              "gyro1_x    0\n",
              "gyro1_y    0\n",
              "gyro1_z    0\n",
              "acc2_x     0\n",
              "acc2_y     0\n",
              "acc2_z     0\n",
              "label      0\n",
              "dtype: int64"
            ]
          },
          "metadata": {},
          "execution_count": 17
        }
      ]
    },
    {
      "cell_type": "markdown",
      "metadata": {
        "id": "gVhm2KdsMc7L"
      },
      "source": [
        "## Data Preprocessing"
      ]
    },
    {
      "cell_type": "code",
      "metadata": {
        "colab": {
          "base_uri": "https://localhost:8080/",
          "height": 204
        },
        "id": "oRyM0nLfBXzX",
        "outputId": "c1f5c2f2-983b-4160-8a1d-6b323bb366df"
      },
      "source": [
        "df_prep = df.drop(['subject'], axis = 1).copy()\n",
        "df_prep.head()"
      ],
      "execution_count": null,
      "outputs": [
        {
          "output_type": "execute_result",
          "data": {
            "text/html": [
              "<div>\n",
              "<style scoped>\n",
              "    .dataframe tbody tr th:only-of-type {\n",
              "        vertical-align: middle;\n",
              "    }\n",
              "\n",
              "    .dataframe tbody tr th {\n",
              "        vertical-align: top;\n",
              "    }\n",
              "\n",
              "    .dataframe thead th {\n",
              "        text-align: right;\n",
              "    }\n",
              "</style>\n",
              "<table border=\"1\" class=\"dataframe\">\n",
              "  <thead>\n",
              "    <tr style=\"text-align: right;\">\n",
              "      <th></th>\n",
              "      <th>acc1_x</th>\n",
              "      <th>acc1_y</th>\n",
              "      <th>acc1_z</th>\n",
              "      <th>gyro1_x</th>\n",
              "      <th>gyro1_y</th>\n",
              "      <th>gyro1_z</th>\n",
              "      <th>acc2_x</th>\n",
              "      <th>acc2_y</th>\n",
              "      <th>acc2_z</th>\n",
              "      <th>label</th>\n",
              "    </tr>\n",
              "  </thead>\n",
              "  <tbody>\n",
              "    <tr>\n",
              "      <th>0</th>\n",
              "      <td>-0.049573</td>\n",
              "      <td>0.051482</td>\n",
              "      <td>0.061498</td>\n",
              "      <td>0.357428</td>\n",
              "      <td>0.876525</td>\n",
              "      <td>-1.077288</td>\n",
              "      <td>0.951736</td>\n",
              "      <td>-0.303094</td>\n",
              "      <td>-0.133766</td>\n",
              "      <td>5</td>\n",
              "    </tr>\n",
              "    <tr>\n",
              "      <th>1</th>\n",
              "      <td>-0.085298</td>\n",
              "      <td>0.048648</td>\n",
              "      <td>0.083263</td>\n",
              "      <td>0.337020</td>\n",
              "      <td>0.840771</td>\n",
              "      <td>-1.329607</td>\n",
              "      <td>0.918129</td>\n",
              "      <td>-0.301953</td>\n",
              "      <td>-0.111281</td>\n",
              "      <td>5</td>\n",
              "    </tr>\n",
              "    <tr>\n",
              "      <th>2</th>\n",
              "      <td>-0.046568</td>\n",
              "      <td>0.057793</td>\n",
              "      <td>0.114970</td>\n",
              "      <td>0.320000</td>\n",
              "      <td>0.909147</td>\n",
              "      <td>-0.788201</td>\n",
              "      <td>0.958863</td>\n",
              "      <td>-0.288855</td>\n",
              "      <td>-0.078756</td>\n",
              "      <td>5</td>\n",
              "    </tr>\n",
              "    <tr>\n",
              "      <th>3</th>\n",
              "      <td>0.001564</td>\n",
              "      <td>0.068723</td>\n",
              "      <td>0.144465</td>\n",
              "      <td>0.308596</td>\n",
              "      <td>0.773221</td>\n",
              "      <td>-0.313850</td>\n",
              "      <td>1.008886</td>\n",
              "      <td>-0.274002</td>\n",
              "      <td>-0.048346</td>\n",
              "      <td>5</td>\n",
              "    </tr>\n",
              "    <tr>\n",
              "      <th>4</th>\n",
              "      <td>-0.026644</td>\n",
              "      <td>0.088834</td>\n",
              "      <td>0.188589</td>\n",
              "      <td>0.308176</td>\n",
              "      <td>0.691534</td>\n",
              "      <td>-0.457948</td>\n",
              "      <td>0.982454</td>\n",
              "      <td>-0.250003</td>\n",
              "      <td>-0.003217</td>\n",
              "      <td>5</td>\n",
              "    </tr>\n",
              "  </tbody>\n",
              "</table>\n",
              "</div>"
            ],
            "text/plain": [
              "     acc1_x    acc1_y    acc1_z   gyro1_x  ...    acc2_x    acc2_y    acc2_z  label\n",
              "0 -0.049573  0.051482  0.061498  0.357428  ...  0.951736 -0.303094 -0.133766      5\n",
              "1 -0.085298  0.048648  0.083263  0.337020  ...  0.918129 -0.301953 -0.111281      5\n",
              "2 -0.046568  0.057793  0.114970  0.320000  ...  0.958863 -0.288855 -0.078756      5\n",
              "3  0.001564  0.068723  0.144465  0.308596  ...  1.008886 -0.274002 -0.048346      5\n",
              "4 -0.026644  0.088834  0.188589  0.308176  ...  0.982454 -0.250003 -0.003217      5\n",
              "\n",
              "[5 rows x 10 columns]"
            ]
          },
          "metadata": {},
          "execution_count": 8
        }
      ]
    },
    {
      "cell_type": "code",
      "metadata": {
        "id": "e_sezuXxBfmf"
      },
      "source": [
        "Laying = df_prep[df_prep['label']==6].head(66432).copy()\n",
        "Sit = df_prep[df_prep['label']==4].head(66432).copy()\n",
        "Stand = df_prep[df_prep['label']==5].head(66432).copy()\n",
        "Walking = df_prep[df_prep['label']==1].head(66432).copy()\n",
        "Upstairs = df_prep[df_prep['label']==2].head(66432).copy()\n",
        "Downstairs  = df_prep[df_prep['label']==3].copy()"
      ],
      "execution_count": null,
      "outputs": []
    },
    {
      "cell_type": "code",
      "metadata": {
        "colab": {
          "base_uri": "https://localhost:8080/"
        },
        "id": "0YK3qi2jMiZi",
        "outputId": "8e481430-ea23-4c4c-dd8d-58198221a94e"
      },
      "source": [
        "balanced_data = pd.DataFrame()\n",
        "balanced_data = balanced_data.append([Laying, Sit, Stand, Walking, Upstairs, Downstairs])\n",
        "balanced_data.shape"
      ],
      "execution_count": null,
      "outputs": [
        {
          "output_type": "execute_result",
          "data": {
            "text/plain": [
              "(398592, 10)"
            ]
          },
          "metadata": {},
          "execution_count": 11
        }
      ]
    },
    {
      "cell_type": "code",
      "metadata": {
        "colab": {
          "base_uri": "https://localhost:8080/"
        },
        "id": "WCjsh-ZGM39a",
        "outputId": "ca5f2c33-138e-414c-e328-7821488633ec"
      },
      "source": [
        "balanced_data['label'].value_counts()"
      ],
      "execution_count": null,
      "outputs": [
        {
          "output_type": "execute_result",
          "data": {
            "text/plain": [
              "6    66432\n",
              "5    66432\n",
              "4    66432\n",
              "3    66432\n",
              "2    66432\n",
              "1    66432\n",
              "Name: label, dtype: int64"
            ]
          },
          "metadata": {},
          "execution_count": 12
        }
      ]
    },
    {
      "cell_type": "code",
      "metadata": {
        "id": "ywJat7U5NAtv"
      },
      "source": [
        "X_train = balanced_data[['acc1_x', 'acc1_y', 'acc1_z', 'gyro1_x',\t'gyro1_y'\t,'gyro1_z',\t'acc2_x',\t'acc2_y' ,'acc2_z']]\n",
        "y_train = balanced_data['label']"
      ],
      "execution_count": null,
      "outputs": []
    },
    {
      "cell_type": "code",
      "metadata": {
        "colab": {
          "base_uri": "https://localhost:8080/",
          "height": 204
        },
        "id": "gh9bOXNrNhvw",
        "outputId": "8aaa4d16-cce2-4c40-a8c7-9364373e3d6d"
      },
      "source": [
        "scaler = StandardScaler()\n",
        "X_train = scaler.fit_transform(X_train)\n",
        "\n",
        "scaled_X_train = pd.DataFrame(data = X_train, columns = ['acc1_x', 'acc1_y', 'acc1_z', 'gyro1_x',\t'gyro1_y'\t,'gyro1_z',\t'acc2_x',\t'acc2_y'\t,'acc2_z'])\n",
        "scaled_X_train['label'] = y_train.values\n",
        "\n",
        "scaled_X_train.head()"
      ],
      "execution_count": null,
      "outputs": [
        {
          "output_type": "execute_result",
          "data": {
            "text/html": [
              "<div>\n",
              "<style scoped>\n",
              "    .dataframe tbody tr th:only-of-type {\n",
              "        vertical-align: middle;\n",
              "    }\n",
              "\n",
              "    .dataframe tbody tr th {\n",
              "        vertical-align: top;\n",
              "    }\n",
              "\n",
              "    .dataframe thead th {\n",
              "        text-align: right;\n",
              "    }\n",
              "</style>\n",
              "<table border=\"1\" class=\"dataframe\">\n",
              "  <thead>\n",
              "    <tr style=\"text-align: right;\">\n",
              "      <th></th>\n",
              "      <th>acc1_x</th>\n",
              "      <th>acc1_y</th>\n",
              "      <th>acc1_z</th>\n",
              "      <th>gyro1_x</th>\n",
              "      <th>gyro1_y</th>\n",
              "      <th>gyro1_z</th>\n",
              "      <th>acc2_x</th>\n",
              "      <th>acc2_y</th>\n",
              "      <th>acc2_z</th>\n",
              "      <th>label</th>\n",
              "    </tr>\n",
              "  </thead>\n",
              "  <tbody>\n",
              "    <tr>\n",
              "      <th>0</th>\n",
              "      <td>-0.438620</td>\n",
              "      <td>-1.369200</td>\n",
              "      <td>1.430501</td>\n",
              "      <td>0.851217</td>\n",
              "      <td>-0.796241</td>\n",
              "      <td>1.578740</td>\n",
              "      <td>-2.019611</td>\n",
              "      <td>1.779761</td>\n",
              "      <td>1.886166</td>\n",
              "      <td>6</td>\n",
              "    </tr>\n",
              "    <tr>\n",
              "      <th>1</th>\n",
              "      <td>-0.374741</td>\n",
              "      <td>-0.793655</td>\n",
              "      <td>1.327707</td>\n",
              "      <td>0.901354</td>\n",
              "      <td>-0.765894</td>\n",
              "      <td>1.883280</td>\n",
              "      <td>-1.992723</td>\n",
              "      <td>1.964767</td>\n",
              "      <td>1.862037</td>\n",
              "      <td>6</td>\n",
              "    </tr>\n",
              "    <tr>\n",
              "      <th>2</th>\n",
              "      <td>-0.289756</td>\n",
              "      <td>-0.557733</td>\n",
              "      <td>1.237665</td>\n",
              "      <td>0.895613</td>\n",
              "      <td>-0.759431</td>\n",
              "      <td>1.898028</td>\n",
              "      <td>-1.953628</td>\n",
              "      <td>2.037151</td>\n",
              "      <td>1.842076</td>\n",
              "      <td>6</td>\n",
              "    </tr>\n",
              "    <tr>\n",
              "      <th>3</th>\n",
              "      <td>-0.254359</td>\n",
              "      <td>-0.481664</td>\n",
              "      <td>1.033454</td>\n",
              "      <td>0.784802</td>\n",
              "      <td>-0.638686</td>\n",
              "      <td>1.935272</td>\n",
              "      <td>-1.942279</td>\n",
              "      <td>2.056371</td>\n",
              "      <td>1.785518</td>\n",
              "      <td>6</td>\n",
              "    </tr>\n",
              "    <tr>\n",
              "      <th>4</th>\n",
              "      <td>-0.074221</td>\n",
              "      <td>-0.272800</td>\n",
              "      <td>0.602975</td>\n",
              "      <td>0.678882</td>\n",
              "      <td>-0.567458</td>\n",
              "      <td>1.893044</td>\n",
              "      <td>-1.848870</td>\n",
              "      <td>2.119205</td>\n",
              "      <td>1.656352</td>\n",
              "      <td>6</td>\n",
              "    </tr>\n",
              "  </tbody>\n",
              "</table>\n",
              "</div>"
            ],
            "text/plain": [
              "     acc1_x    acc1_y    acc1_z   gyro1_x  ...    acc2_x    acc2_y    acc2_z  label\n",
              "0 -0.438620 -1.369200  1.430501  0.851217  ... -2.019611  1.779761  1.886166      6\n",
              "1 -0.374741 -0.793655  1.327707  0.901354  ... -1.992723  1.964767  1.862037      6\n",
              "2 -0.289756 -0.557733  1.237665  0.895613  ... -1.953628  2.037151  1.842076      6\n",
              "3 -0.254359 -0.481664  1.033454  0.784802  ... -1.942279  2.056371  1.785518      6\n",
              "4 -0.074221 -0.272800  0.602975  0.678882  ... -1.848870  2.119205  1.656352      6\n",
              "\n",
              "[5 rows x 10 columns]"
            ]
          },
          "metadata": {},
          "execution_count": 15
        }
      ]
    },
    {
      "cell_type": "code",
      "metadata": {
        "colab": {
          "base_uri": "https://localhost:8080/",
          "height": 204
        },
        "id": "Wezjkdr8O2Jw",
        "outputId": "f0aba633-fcbc-4bd6-9521-d447be9d8cca"
      },
      "source": [
        "df2_prep = df.drop(['subject'], axis = 1).copy()\n",
        "df2_prep.head()"
      ],
      "execution_count": null,
      "outputs": [
        {
          "output_type": "execute_result",
          "data": {
            "text/html": [
              "<div>\n",
              "<style scoped>\n",
              "    .dataframe tbody tr th:only-of-type {\n",
              "        vertical-align: middle;\n",
              "    }\n",
              "\n",
              "    .dataframe tbody tr th {\n",
              "        vertical-align: top;\n",
              "    }\n",
              "\n",
              "    .dataframe thead th {\n",
              "        text-align: right;\n",
              "    }\n",
              "</style>\n",
              "<table border=\"1\" class=\"dataframe\">\n",
              "  <thead>\n",
              "    <tr style=\"text-align: right;\">\n",
              "      <th></th>\n",
              "      <th>acc1_x</th>\n",
              "      <th>acc1_y</th>\n",
              "      <th>acc1_z</th>\n",
              "      <th>gyro1_x</th>\n",
              "      <th>gyro1_y</th>\n",
              "      <th>gyro1_z</th>\n",
              "      <th>acc2_x</th>\n",
              "      <th>acc2_y</th>\n",
              "      <th>acc2_z</th>\n",
              "      <th>label</th>\n",
              "    </tr>\n",
              "  </thead>\n",
              "  <tbody>\n",
              "    <tr>\n",
              "      <th>0</th>\n",
              "      <td>-0.049573</td>\n",
              "      <td>0.051482</td>\n",
              "      <td>0.061498</td>\n",
              "      <td>0.357428</td>\n",
              "      <td>0.876525</td>\n",
              "      <td>-1.077288</td>\n",
              "      <td>0.951736</td>\n",
              "      <td>-0.303094</td>\n",
              "      <td>-0.133766</td>\n",
              "      <td>5</td>\n",
              "    </tr>\n",
              "    <tr>\n",
              "      <th>1</th>\n",
              "      <td>-0.085298</td>\n",
              "      <td>0.048648</td>\n",
              "      <td>0.083263</td>\n",
              "      <td>0.337020</td>\n",
              "      <td>0.840771</td>\n",
              "      <td>-1.329607</td>\n",
              "      <td>0.918129</td>\n",
              "      <td>-0.301953</td>\n",
              "      <td>-0.111281</td>\n",
              "      <td>5</td>\n",
              "    </tr>\n",
              "    <tr>\n",
              "      <th>2</th>\n",
              "      <td>-0.046568</td>\n",
              "      <td>0.057793</td>\n",
              "      <td>0.114970</td>\n",
              "      <td>0.320000</td>\n",
              "      <td>0.909147</td>\n",
              "      <td>-0.788201</td>\n",
              "      <td>0.958863</td>\n",
              "      <td>-0.288855</td>\n",
              "      <td>-0.078756</td>\n",
              "      <td>5</td>\n",
              "    </tr>\n",
              "    <tr>\n",
              "      <th>3</th>\n",
              "      <td>0.001564</td>\n",
              "      <td>0.068723</td>\n",
              "      <td>0.144465</td>\n",
              "      <td>0.308596</td>\n",
              "      <td>0.773221</td>\n",
              "      <td>-0.313850</td>\n",
              "      <td>1.008886</td>\n",
              "      <td>-0.274002</td>\n",
              "      <td>-0.048346</td>\n",
              "      <td>5</td>\n",
              "    </tr>\n",
              "    <tr>\n",
              "      <th>4</th>\n",
              "      <td>-0.026644</td>\n",
              "      <td>0.088834</td>\n",
              "      <td>0.188589</td>\n",
              "      <td>0.308176</td>\n",
              "      <td>0.691534</td>\n",
              "      <td>-0.457948</td>\n",
              "      <td>0.982454</td>\n",
              "      <td>-0.250003</td>\n",
              "      <td>-0.003217</td>\n",
              "      <td>5</td>\n",
              "    </tr>\n",
              "  </tbody>\n",
              "</table>\n",
              "</div>"
            ],
            "text/plain": [
              "     acc1_x    acc1_y    acc1_z   gyro1_x  ...    acc2_x    acc2_y    acc2_z  label\n",
              "0 -0.049573  0.051482  0.061498  0.357428  ...  0.951736 -0.303094 -0.133766      5\n",
              "1 -0.085298  0.048648  0.083263  0.337020  ...  0.918129 -0.301953 -0.111281      5\n",
              "2 -0.046568  0.057793  0.114970  0.320000  ...  0.958863 -0.288855 -0.078756      5\n",
              "3  0.001564  0.068723  0.144465  0.308596  ...  1.008886 -0.274002 -0.048346      5\n",
              "4 -0.026644  0.088834  0.188589  0.308176  ...  0.982454 -0.250003 -0.003217      5\n",
              "\n",
              "[5 rows x 10 columns]"
            ]
          },
          "metadata": {},
          "execution_count": 18
        }
      ]
    },
    {
      "cell_type": "code",
      "metadata": {
        "id": "fzkp4SCTOCqJ"
      },
      "source": [
        "X_test = df2_prep[['acc1_x', 'acc1_y', 'acc1_z', 'gyro1_x',\t'gyro1_y'\t,'gyro1_z',\t'acc2_x',\t'acc2_y'\t,'acc2_z']]\n",
        "y_test = df2_prep['label']"
      ],
      "execution_count": null,
      "outputs": []
    },
    {
      "cell_type": "code",
      "metadata": {
        "colab": {
          "base_uri": "https://localhost:8080/",
          "height": 204
        },
        "id": "oyaMT3NVPLqO",
        "outputId": "8721423b-02c1-4663-eeef-42801f552949"
      },
      "source": [
        "scaler = StandardScaler()\n",
        "X_test = scaler.fit_transform(X_test)\n",
        "\n",
        "scaled_X_test = pd.DataFrame(data = X_test, columns = ['acc1_x', 'acc1_y', 'acc1_z', 'gyro1_x',\t'gyro1_y'\t,'gyro1_z',\t'acc2_x',\t'acc2_y'\t,'acc2_z'])\n",
        "scaled_X_test['label'] = y_test.values\n",
        "\n",
        "scaled_X_test.head()"
      ],
      "execution_count": null,
      "outputs": [
        {
          "output_type": "execute_result",
          "data": {
            "text/html": [
              "<div>\n",
              "<style scoped>\n",
              "    .dataframe tbody tr th:only-of-type {\n",
              "        vertical-align: middle;\n",
              "    }\n",
              "\n",
              "    .dataframe tbody tr th {\n",
              "        vertical-align: top;\n",
              "    }\n",
              "\n",
              "    .dataframe thead th {\n",
              "        text-align: right;\n",
              "    }\n",
              "</style>\n",
              "<table border=\"1\" class=\"dataframe\">\n",
              "  <thead>\n",
              "    <tr style=\"text-align: right;\">\n",
              "      <th></th>\n",
              "      <th>acc1_x</th>\n",
              "      <th>acc1_y</th>\n",
              "      <th>acc1_z</th>\n",
              "      <th>gyro1_x</th>\n",
              "      <th>gyro1_y</th>\n",
              "      <th>gyro1_z</th>\n",
              "      <th>acc2_x</th>\n",
              "      <th>acc2_y</th>\n",
              "      <th>acc2_z</th>\n",
              "      <th>label</th>\n",
              "    </tr>\n",
              "  </thead>\n",
              "  <tbody>\n",
              "    <tr>\n",
              "      <th>0</th>\n",
              "      <td>-0.247064</td>\n",
              "      <td>0.414857</td>\n",
              "      <td>0.600621</td>\n",
              "      <td>0.868275</td>\n",
              "      <td>2.300879</td>\n",
              "      <td>-4.168119</td>\n",
              "      <td>0.377900</td>\n",
              "      <td>-0.819421</td>\n",
              "      <td>-0.612107</td>\n",
              "      <td>5</td>\n",
              "    </tr>\n",
              "    <tr>\n",
              "      <th>1</th>\n",
              "      <td>-0.427859</td>\n",
              "      <td>0.392073</td>\n",
              "      <td>0.811353</td>\n",
              "      <td>0.818634</td>\n",
              "      <td>2.207115</td>\n",
              "      <td>-5.144488</td>\n",
              "      <td>0.296863</td>\n",
              "      <td>-0.816674</td>\n",
              "      <td>-0.548555</td>\n",
              "      <td>5</td>\n",
              "    </tr>\n",
              "    <tr>\n",
              "      <th>2</th>\n",
              "      <td>-0.231854</td>\n",
              "      <td>0.465589</td>\n",
              "      <td>1.118328</td>\n",
              "      <td>0.777233</td>\n",
              "      <td>2.386429</td>\n",
              "      <td>-3.049475</td>\n",
              "      <td>0.395087</td>\n",
              "      <td>-0.785144</td>\n",
              "      <td>-0.456627</td>\n",
              "      <td>5</td>\n",
              "    </tr>\n",
              "    <tr>\n",
              "      <th>3</th>\n",
              "      <td>0.011730</td>\n",
              "      <td>0.553450</td>\n",
              "      <td>1.403900</td>\n",
              "      <td>0.749493</td>\n",
              "      <td>2.029968</td>\n",
              "      <td>-1.213935</td>\n",
              "      <td>0.515707</td>\n",
              "      <td>-0.749388</td>\n",
              "      <td>-0.370680</td>\n",
              "      <td>5</td>\n",
              "    </tr>\n",
              "    <tr>\n",
              "      <th>4</th>\n",
              "      <td>-0.131027</td>\n",
              "      <td>0.715111</td>\n",
              "      <td>1.831096</td>\n",
              "      <td>0.748473</td>\n",
              "      <td>1.815748</td>\n",
              "      <td>-1.771534</td>\n",
              "      <td>0.451972</td>\n",
              "      <td>-0.691616</td>\n",
              "      <td>-0.243128</td>\n",
              "      <td>5</td>\n",
              "    </tr>\n",
              "  </tbody>\n",
              "</table>\n",
              "</div>"
            ],
            "text/plain": [
              "     acc1_x    acc1_y    acc1_z   gyro1_x  ...    acc2_x    acc2_y    acc2_z  label\n",
              "0 -0.247064  0.414857  0.600621  0.868275  ...  0.377900 -0.819421 -0.612107      5\n",
              "1 -0.427859  0.392073  0.811353  0.818634  ...  0.296863 -0.816674 -0.548555      5\n",
              "2 -0.231854  0.465589  1.118328  0.777233  ...  0.395087 -0.785144 -0.456627      5\n",
              "3  0.011730  0.553450  1.403900  0.749493  ...  0.515707 -0.749388 -0.370680      5\n",
              "4 -0.131027  0.715111  1.831096  0.748473  ...  0.451972 -0.691616 -0.243128      5\n",
              "\n",
              "[5 rows x 10 columns]"
            ]
          },
          "metadata": {},
          "execution_count": 20
        }
      ]
    },
    {
      "cell_type": "code",
      "metadata": {
        "id": "L9chFbxgPbIM"
      },
      "source": [
        "X_train = scaled_X_train[['acc1_x', 'acc1_y', 'acc1_z', 'gyro1_x',\t'gyro1_y'\t,'gyro1_z',\t'acc2_x',\t'acc2_y' ,'acc2_z']]\n",
        "y_train = scaled_X_train['label']"
      ],
      "execution_count": null,
      "outputs": []
    },
    {
      "cell_type": "code",
      "metadata": {
        "id": "gHD1eV76S7i2"
      },
      "source": [
        "X_test = scaled_X_test[['acc1_x', 'acc1_y', 'acc1_z', 'gyro1_x',\t'gyro1_y'\t,'gyro1_z',\t'acc2_x',\t'acc2_y' ,'acc2_z']]\n",
        "y_test = scaled_X_test['label']"
      ],
      "execution_count": null,
      "outputs": []
    },
    {
      "cell_type": "markdown",
      "metadata": {
        "id": "rUUXrJFATPCC"
      },
      "source": [
        "## Train ANN"
      ]
    },
    {
      "cell_type": "code",
      "metadata": {
        "colab": {
          "base_uri": "https://localhost:8080/"
        },
        "id": "rJ0cwwV4TBvq",
        "outputId": "8e443946-19aa-449f-c3b7-4a2f0acd7943"
      },
      "source": [
        "from sklearn.neural_network import MLPClassifier\n",
        "from sklearn.metrics import accuracy_score\n",
        "from sklearn.metrics import f1_score\n",
        "\n",
        "for nh in range (2,11):\n",
        "  ann=MLPClassifier(hidden_layer_sizes=(nh,),max_iter=10000,random_state=1)\n",
        "  ann.fit(X_train, y_train)\n",
        "  acc= 100*ann.score(X_test, y_test)\n",
        "  f1= f1_score(y_test, ann.predict(X_test), average='micro')\n",
        "  \n",
        "  print('Neuron in hidden layer: %g, accuracy %.2f%%, f1-score %.2f'%(nh,acc,f1))"
      ],
      "execution_count": null,
      "outputs": [
        {
          "output_type": "stream",
          "name": "stdout",
          "text": [
            "Neuron in hidden layer: 2, accuracy 63.70%, f1-score 0.64\n",
            "Neuron in hidden layer: 3, accuracy 69.78%, f1-score 0.70\n",
            "Neuron in hidden layer: 4, accuracy 74.37%, f1-score 0.74\n",
            "Neuron in hidden layer: 5, accuracy 71.08%, f1-score 0.71\n",
            "Neuron in hidden layer: 6, accuracy 73.33%, f1-score 0.73\n",
            "Neuron in hidden layer: 7, accuracy 76.48%, f1-score 0.76\n",
            "Neuron in hidden layer: 8, accuracy 77.93%, f1-score 0.78\n",
            "Neuron in hidden layer: 9, accuracy 79.13%, f1-score 0.79\n",
            "Neuron in hidden layer: 10, accuracy 78.86%, f1-score 0.79\n"
          ]
        }
      ]
    },
    {
      "cell_type": "markdown",
      "metadata": {
        "id": "RGEEFl7AarXS"
      },
      "source": [
        "##Frame Preparation "
      ]
    },
    {
      "cell_type": "code",
      "metadata": {
        "colab": {
          "base_uri": "https://localhost:8080/"
        },
        "id": "_ZP_4q7iZtOB",
        "outputId": "a5890326-35c7-4077-8b86-1d1db3b2854b"
      },
      "source": [
        "import tensorflow as tf\n",
        "from tensorflow.keras import Sequential\n",
        "from tensorflow.keras.layers import Flatten, Dense, Dropout, BatchNormalization\n",
        "from tensorflow.keras.layers import Conv2D, MaxPool2D\n",
        "from tensorflow.keras.optimizers import Adam\n",
        "print(tf.__version__)\n",
        "import scipy.stats as stats"
      ],
      "execution_count": null,
      "outputs": [
        {
          "output_type": "stream",
          "name": "stdout",
          "text": [
            "2.6.0\n"
          ]
        }
      ]
    },
    {
      "cell_type": "code",
      "metadata": {
        "id": "qEja4rbUaUhq"
      },
      "source": [
        "frame_size = 80\n",
        "hop_size = 40"
      ],
      "execution_count": null,
      "outputs": []
    },
    {
      "cell_type": "code",
      "metadata": {
        "id": "2Z3cric_aeEI"
      },
      "source": [
        "def get_frames(df, frame_size, hop_size):\n",
        "\n",
        "    N_FEATURES = 9\n",
        "\n",
        "    frames = []\n",
        "    labels = []\n",
        "    for i in range(0, len(df) - frame_size, hop_size):\n",
        "        acc1_x = df['acc1_x'].values[i: i + frame_size]\n",
        "        acc1_y = df['acc1_y'].values[i: i + frame_size]\n",
        "        acc1_z = df['acc1_z'].values[i: i + frame_size]\n",
        "        gyro1_x = df['gyro1_x'].values[i: i + frame_size]\n",
        "        gyro1_y = df['gyro1_y'].values[i: i + frame_size]\n",
        "        gyro1_z = df['gyro1_z'].values[i: i + frame_size]\n",
        "        acc2_x = df['acc2_x'].values[i: i + frame_size]\n",
        "        acc2_y = df['acc2_y'].values[i: i + frame_size]\n",
        "        acc2_z = df['acc2_z'].values[i: i + frame_size]\n",
        "        \n",
        "        label = stats.mode(df['label'][i: i + frame_size])[0][0]\n",
        "        frames.append([acc1_x, acc1_y,\tacc1_z,\tgyro1_x,\tgyro1_y,\tgyro1_z,\tacc2_x,\tacc2_y,\tacc2_z])\n",
        "        labels.append(label)\n",
        "\n",
        "    \n",
        "    frames = np.asarray(frames).reshape(-1, frame_size, N_FEATURES)\n",
        "    labels = np.asarray(labels)\n",
        "\n",
        "    return frames, labels"
      ],
      "execution_count": null,
      "outputs": []
    },
    {
      "cell_type": "code",
      "metadata": {
        "colab": {
          "base_uri": "https://localhost:8080/"
        },
        "id": "sWPMzKQqamm3",
        "outputId": "5ff7ee62-a2cc-47e1-b791-0420b3c25212"
      },
      "source": [
        "X_train, y_train = get_frames(scaled_X_train, frame_size, hop_size)\n",
        "X_train.shape, y_train.shape"
      ],
      "execution_count": null,
      "outputs": [
        {
          "output_type": "execute_result",
          "data": {
            "text/plain": [
              "((9963, 80, 9), (9963,))"
            ]
          },
          "metadata": {},
          "execution_count": 36
        }
      ]
    },
    {
      "cell_type": "code",
      "metadata": {
        "colab": {
          "base_uri": "https://localhost:8080/"
        },
        "id": "p-lIujrSbXTX",
        "outputId": "83acd375-996f-4209-d0d9-cdfbda9b2b09"
      },
      "source": [
        "X_test, y_test = get_frames(scaled_X_test, frame_size, hop_size)\n",
        "X_test.shape, y_test.shape"
      ],
      "execution_count": null,
      "outputs": [
        {
          "output_type": "execute_result",
          "data": {
            "text/plain": [
              "((13205, 80, 9), (13205,))"
            ]
          },
          "metadata": {},
          "execution_count": 37
        }
      ]
    },
    {
      "cell_type": "code",
      "metadata": {
        "colab": {
          "base_uri": "https://localhost:8080/"
        },
        "id": "f1QVxwSBb4tP",
        "outputId": "295884e3-d4a9-4777-8ecb-33d2c76e2afd"
      },
      "source": [
        "X_train  = X_train.reshape(9963, 80, 9, 1)\n",
        "X_test = X_test.reshape(13205, 80, 9, 1)\n",
        "X_train[0].shape, X_test[0].shape"
      ],
      "execution_count": null,
      "outputs": [
        {
          "output_type": "execute_result",
          "data": {
            "text/plain": [
              "((80, 9, 1), (80, 9, 1))"
            ]
          },
          "metadata": {},
          "execution_count": 38
        }
      ]
    },
    {
      "cell_type": "code",
      "metadata": {
        "colab": {
          "base_uri": "https://localhost:8080/"
        },
        "id": "6uvgcszmcQvm",
        "outputId": "10433479-4360-4727-ba10-a8ca0c503288"
      },
      "source": [
        "y_subtract = np.ones(y_train.shape)\n",
        "y_train = y_train- y_subtract\n",
        "y_subtract = np.ones(y_test.shape)\n",
        "y_test = y_test - y_subtract\n",
        "y_train.shape, y_test.shape"
      ],
      "execution_count": null,
      "outputs": [
        {
          "output_type": "execute_result",
          "data": {
            "text/plain": [
              "((9963,), (13205,))"
            ]
          },
          "metadata": {},
          "execution_count": 39
        }
      ]
    },
    {
      "cell_type": "markdown",
      "metadata": {
        "id": "dPVU2KcAc3eF"
      },
      "source": [
        "##Train 2D CNN"
      ]
    },
    {
      "cell_type": "code",
      "metadata": {
        "id": "44mtSQivcL7D"
      },
      "source": [
        "model = Sequential()\n",
        "model.add(Conv2D(16, (2, 2), activation = 'relu', input_shape = X_train[0].shape))\n",
        "model.add(Dropout(0.1))\n",
        "\n",
        "model.add(Conv2D(32, (2, 2), activation='relu'))\n",
        "model.add(Dropout(0.2))\n",
        "\n",
        "model.add(Flatten())\n",
        "\n",
        "model.add(Dense(64, activation = 'relu'))\n",
        "model.add(Dropout(0.5))\n",
        "\n",
        "model.add(Dense(6, activation='softmax'))"
      ],
      "execution_count": null,
      "outputs": []
    },
    {
      "cell_type": "code",
      "metadata": {
        "id": "G3wxY6pQdNRo"
      },
      "source": [
        "model.compile(optimizer=Adam(learning_rate = 0.001), loss = 'sparse_categorical_crossentropy', metrics = ['accuracy'])"
      ],
      "execution_count": null,
      "outputs": []
    },
    {
      "cell_type": "code",
      "metadata": {
        "colab": {
          "base_uri": "https://localhost:8080/"
        },
        "id": "lAPk3jBjdCjZ",
        "outputId": "b2334508-1345-4214-f8b9-5dbf389ffee3"
      },
      "source": [
        "history = model.fit(X_train, y_train, epochs = 10, validation_data= (X_test, y_test), verbose=1)"
      ],
      "execution_count": null,
      "outputs": [
        {
          "output_type": "stream",
          "name": "stdout",
          "text": [
            "Epoch 1/10\n",
            "312/312 [==============================] - 17s 52ms/step - loss: 0.5054 - accuracy: 0.7919 - val_loss: 0.2320 - val_accuracy: 0.9159\n",
            "Epoch 2/10\n",
            "312/312 [==============================] - 16s 51ms/step - loss: 0.2194 - accuracy: 0.9166 - val_loss: 0.2083 - val_accuracy: 0.9392\n",
            "Epoch 3/10\n",
            "312/312 [==============================] - 16s 51ms/step - loss: 0.1566 - accuracy: 0.9426 - val_loss: 0.1923 - val_accuracy: 0.9385\n",
            "Epoch 4/10\n",
            "312/312 [==============================] - 16s 51ms/step - loss: 0.1122 - accuracy: 0.9572 - val_loss: 0.1736 - val_accuracy: 0.9434\n",
            "Epoch 5/10\n",
            "312/312 [==============================] - 15s 49ms/step - loss: 0.1038 - accuracy: 0.9591 - val_loss: 0.1941 - val_accuracy: 0.9559\n",
            "Epoch 6/10\n",
            "312/312 [==============================] - 16s 51ms/step - loss: 0.0887 - accuracy: 0.9663 - val_loss: 0.2081 - val_accuracy: 0.9489\n",
            "Epoch 7/10\n",
            "312/312 [==============================] - 16s 52ms/step - loss: 0.0800 - accuracy: 0.9681 - val_loss: 0.2058 - val_accuracy: 0.9478\n",
            "Epoch 8/10\n",
            "312/312 [==============================] - 16s 51ms/step - loss: 0.0746 - accuracy: 0.9708 - val_loss: 0.2203 - val_accuracy: 0.9486\n",
            "Epoch 9/10\n",
            "312/312 [==============================] - 16s 52ms/step - loss: 0.0627 - accuracy: 0.9760 - val_loss: 0.2308 - val_accuracy: 0.9500\n",
            "Epoch 10/10\n",
            "312/312 [==============================] - 16s 51ms/step - loss: 0.0712 - accuracy: 0.9741 - val_loss: 0.2764 - val_accuracy: 0.9504\n"
          ]
        }
      ]
    },
    {
      "cell_type": "code",
      "metadata": {
        "id": "SM2FD7H7hGN6"
      },
      "source": [
        "def plot_learningCurve(history, epochs):\n",
        "  epoch_range = range(1, epochs+1)\n",
        "  plt.plot(epoch_range, history.history['accuracy'])\n",
        "  plt.plot(epoch_range, history.history['val_accuracy'])\n",
        "  plt.title('Model accuracy')\n",
        "  plt.ylabel('Accuracy')\n",
        "  plt.xlabel('Epoch')\n",
        "  plt.legend(['Train', 'Val'], loc='upper left')\n",
        "  plt.show()\n",
        "\n",
        "  plt.plot(epoch_range, history.history['loss'])\n",
        "  plt.plot(epoch_range, history.history['val_loss'])\n",
        "  plt.title('Model loss')\n",
        "  plt.ylabel('Loss')\n",
        "  plt.xlabel('Epoch')\n",
        "  plt.legend(['Train', 'Val'], loc='upper left')\n",
        "  plt.show()"
      ],
      "execution_count": null,
      "outputs": []
    },
    {
      "cell_type": "code",
      "metadata": {
        "colab": {
          "base_uri": "https://localhost:8080/",
          "height": 573
        },
        "id": "3sn_e5ajhNCN",
        "outputId": "ee357290-ba20-4df7-94f3-6d43d75ae0a9"
      },
      "source": [
        "plot_learningCurve(history, 10)"
      ],
      "execution_count": null,
      "outputs": [
        {
          "output_type": "display_data",
          "data": {
            "image/png": "[encoded data removed]",
            "text/plain": [
              "<Figure size 432x288 with 1 Axes>"
            ]
          },
          "metadata": {
            "needs_background": "light"
          }
        },
        {
          "output_type": "display_data",
          "data": {
            "image/png": "[encoded data removed]",
            "text/plain": [
              "<Figure size 432x288 with 1 Axes>"
            ]
          },
          "metadata": {
            "needs_background": "light"
          }
        }
      ]
    },
    {
      "cell_type": "code",
      "metadata": {
        "id": "JQHSbBN3ifAu"
      },
      "source": [
        "from mlxtend.plotting import plot_confusion_matrix\n",
        "from sklearn.metrics import confusion_matrix"
      ],
      "execution_count": null,
      "outputs": []
    },
    {
      "cell_type": "code",
      "metadata": {
        "id": "LjKAYZMOhQPC"
      },
      "source": [
        "predict_x=model.predict(X_test) \n",
        "y_pred=np.argmax(predict_x,axis=1)"
      ],
      "execution_count": null,
      "outputs": []
    },
    {
      "cell_type": "code",
      "metadata": {
        "colab": {
          "base_uri": "https://localhost:8080/"
        },
        "id": "6Ps0c5aShpKH",
        "outputId": "2f8ee0d2-00a7-47f7-ce30-422df3478bb7"
      },
      "source": [
        "acc = accuracy_score(y_test, y_pred) * 100\n",
        "f1= f1_score(y_test, y_pred, average='micro')\n",
        "\n",
        "print('accuracy %.2f%%, f1-score %.2f'%(acc,f1))"
      ],
      "execution_count": null,
      "outputs": [
        {
          "output_type": "stream",
          "name": "stdout",
          "text": [
            "accuracy 95.04%, f1-score 0.95\n"
          ]
        }
      ]
    }
  ]
}